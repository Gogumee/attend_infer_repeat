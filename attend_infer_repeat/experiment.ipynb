{
 "cells": [
  {
   "cell_type": "code",
   "execution_count": null,
   "metadata": {
    "collapsed": true
   },
   "outputs": [],
   "source": [
    "from os import path as osp\n",
    "import numpy as np\n",
    "import tensorflow as tf\n",
    "import sonnet as snt\n",
    "from attrdict import AttrDict\n",
    "\n",
    "from evaluation import make_fig, make_logger\n",
    "\n",
    "from data import load_data, tensors_from_data\n",
    "from mnist_model import (AIRonMNIST, NVILEstimatorWithBaseline, ImportanceWeightedNVILEstimatorWithBaseline,\n",
    "                         KLMixin, KLNoStepsGradMixin, KLBySamplingMixin)"
   ]
  },
  {
   "cell_type": "code",
   "execution_count": null,
   "metadata": {
    "collapsed": true
   },
   "outputs": [],
   "source": [
    "learning_rate = 1e-5\n",
    "n_steps = 3\n",
    "\n",
    "results_dir = '../results'\n",
    "run_name = 'sampled_kl'\n",
    "\n",
    "logdir = osp.join(results_dir, run_name)\n",
    "checkpoint_name = osp.join(logdir, 'model.ckpt')\n",
    "axes = {'imgs': 0, 'labels': 0, 'nums': 1}"
   ]
  },
  {
   "cell_type": "code",
   "execution_count": null,
   "metadata": {
    "collapsed": true
   },
   "outputs": [],
   "source": [
    "batch_size = 64\n",
    "\n",
    "use_reinforce = True\n",
    "discrete_steps = True\n",
    "step_bias = 1.\n",
    "transform_var_bias = -3.\n",
    "iw_samples = 5"
   ]
  },
  {
   "cell_type": "code",
   "execution_count": null,
   "metadata": {
    "collapsed": true
   },
   "outputs": [],
   "source": [
    "valid_data = load_data('mnist_validation.pickle')\n",
    "train_data = load_data('mnist_train.pickle')"
   ]
  },
  {
   "cell_type": "code",
   "execution_count": null,
   "metadata": {
    "scrolled": false
   },
   "outputs": [],
   "source": [
    "tf.reset_default_graph()\n",
    "train_tensors = tensors_from_data(train_data, batch_size, axes, shuffle=True)\n",
    "valid_tensors = tensors_from_data(valid_data, batch_size, axes, shuffle=False)\n",
    "x, valid_x = train_tensors['imgs'], valid_tensors['imgs']\n",
    "y, test_y = train_tensors['nums'], valid_tensors['nums']\n",
    "    \n",
    "n_hidden = 32 * 8\n",
    "n_layers = 2\n",
    "n_hiddens = [n_hidden] * n_layers\n",
    "\n",
    "class ConcreteAIR(AIRonMNIST, ImportanceWeightedNVILEstimatorWithBaseline, KLBySamplingMixin):\n",
    "    importance_resample = False\n",
    "    use_r_imp_weight = True\n",
    "    \n",
    "air = ConcreteAIR(x,\n",
    "                max_steps=n_steps, \n",
    "                inpt_encoder_hidden=n_hiddens,\n",
    "                glimpse_encoder_hidden=n_hiddens,\n",
    "                glimpse_decoder_hidden=n_hiddens,\n",
    "                transform_estimator_hidden=n_hiddens,\n",
    "                steps_pred_hidden=[128, 64],\n",
    "                baseline_hidden=[256, 128],\n",
    "                transform_var_bias=transform_var_bias,\n",
    "                step_bias=step_bias,\n",
    "                discrete_steps=discrete_steps,\n",
    "                iw_samples=iw_samples)"
   ]
  },
  {
   "cell_type": "code",
   "execution_count": null,
   "metadata": {
    "scrolled": false
   },
   "outputs": [],
   "source": [
    "train_step, global_step = air.train_step(learning_rate, nums=y)"
   ]
  },
  {
   "cell_type": "code",
   "execution_count": null,
   "metadata": {},
   "outputs": [],
   "source": [
    "print 'AIR tensors:'\n",
    "for k in dir(air):\n",
    "    v = getattr(air, k)\n",
    "    if isinstance(v, tf.Tensor):\n",
    "        print k, v.shape"
   ]
  },
  {
   "cell_type": "code",
   "execution_count": null,
   "metadata": {
    "collapsed": true
   },
   "outputs": [],
   "source": [
    "config = tf.ConfigProto()\n",
    "config.gpu_options.allow_growth = True\n",
    "    \n",
    "sess = tf.Session(config=config)\n",
    "all_summaries = tf.summary.merge_all()"
   ]
  },
  {
   "cell_type": "code",
   "execution_count": null,
   "metadata": {
    "collapsed": true
   },
   "outputs": [],
   "source": [
    "sess.run(tf.global_variables_initializer())"
   ]
  },
  {
   "cell_type": "code",
   "execution_count": null,
   "metadata": {},
   "outputs": [],
   "source": [
    "summary_writer = tf.summary.FileWriter(logdir, sess.graph)\n",
    "saver = tf.train.Saver()"
   ]
  },
  {
   "cell_type": "code",
   "execution_count": null,
   "metadata": {
    "scrolled": false
   },
   "outputs": [],
   "source": [
    "ax = axes['imgs']\n",
    "factor = 100\n",
    "train_batches, valid_batches = [i['imgs'].shape[ax]//factor for i in (train_data, valid_data)]\n",
    "log = make_logger(air, sess, summary_writer, train_tensors, train_batches, valid_tensors, valid_batches)"
   ]
  },
  {
   "cell_type": "code",
   "execution_count": null,
   "metadata": {
    "scrolled": false
   },
   "outputs": [],
   "source": [
    "train_itr = sess.run(global_step)\n",
    "print 'Starting training at iter = {}'.format(train_itr)\n",
    "\n",
    "if train_itr == 0:\n",
    "    log(0)\n",
    "\n",
    "while train_itr < 1e6:\n",
    "        \n",
    "    train_itr, _ = sess.run([global_step, train_step])\n",
    "    \n",
    "    if train_itr % 1000 == 0:\n",
    "        summaries = sess.run(all_summaries)\n",
    "        summary_writer.add_summary(summaries, train_itr)\n",
    "        \n",
    "    if train_itr % 500 == 0:\n",
    "        log(train_itr)\n",
    "        \n",
    "    if train_itr % 5000 == 0:\n",
    "        saver.save(sess, checkpoint_name, global_step=train_itr)\n",
    "        make_fig(air, sess, logdir, train_itr)    "
   ]
  },
  {
   "cell_type": "code",
   "execution_count": null,
   "metadata": {
    "scrolled": false
   },
   "outputs": [],
   "source": [
    "make_fig(air, sess, n_samples=64)"
   ]
  }
 ],
 "metadata": {
  "anaconda-cloud": {},
  "kernelspec": {
   "display_name": "Python [default]",
   "language": "python",
   "name": "python2"
  },
  "language_info": {
   "codemirror_mode": {
    "name": "ipython",
    "version": 2
   },
   "file_extension": ".py",
   "mimetype": "text/x-python",
   "name": "python",
   "nbconvert_exporter": "python",
   "pygments_lexer": "ipython2",
   "version": "2.7.12"
  }
 },
 "nbformat": 4,
 "nbformat_minor": 1
}
